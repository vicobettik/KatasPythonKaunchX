{
 "cells": [
  {
   "cell_type": "code",
   "execution_count": 2,
   "metadata": {},
   "outputs": [
    {
     "name": "stdout",
     "output_type": "stream",
     "text": [
      "no se puede encontrar el archivo\n"
     ]
    }
   ],
   "source": [
    "def main():\n",
    "    try:\n",
    "        open(\"/path/to/mars.jpg\")\n",
    "    \n",
    "    except FileNotFoundError:\n",
    "        print(\"no se puede encontrar el archivo\")\n",
    "\n",
    "main()"
   ]
  },
  {
   "cell_type": "code",
   "execution_count": 4,
   "metadata": {},
   "outputs": [
    {
     "name": "stdout",
     "output_type": "stream",
     "text": [
      "no se puede encontrar el archivo\n"
     ]
    }
   ],
   "source": [
    "def main():\n",
    "    try:\n",
    "        open(\"config.py\")\n",
    "    \n",
    "    except FileNotFoundError:\n",
    "        print(\"no se puede encontrar el archivo\")\n",
    "\n",
    "main()"
   ]
  },
  {
   "cell_type": "code",
   "execution_count": 5,
   "metadata": {},
   "outputs": [
    {
     "name": "stdout",
     "output_type": "stream",
     "text": [
      "no se puede encontrar el archivo\n"
     ]
    }
   ],
   "source": [
    "def main():\n",
    "    try:\n",
    "        open(\"config.py\")\n",
    "    \n",
    "    except:\n",
    "        print(\"no se puede encontrar el archivo\")\n",
    "\n",
    "main()"
   ]
  },
  {
   "cell_type": "code",
   "execution_count": 6,
   "metadata": {},
   "outputs": [],
   "source": [
    "def main():\n",
    "    try:\n",
    "        open('config.txt')\n",
    "    except FileNotFoundError:\n",
    "        print(\"no se puede encontrar el archivo\")\n",
    "    except IsADirectoryError:\n",
    "        print(\"No se puede leer el archivo\")\n",
    "\n",
    "main()"
   ]
  },
  {
   "cell_type": "code",
   "execution_count": 7,
   "metadata": {},
   "outputs": [],
   "source": [
    "def aguaRestante(astronautas, agua_restante, dias_restantes):\n",
    "    uso_diario = astronautas  * 11\n",
    "    uso_total = uso_diario * dias_restantes\n",
    "    agua_total_restante = agua_restante - uso_total\n",
    "    return f\"Agua restante despues de {dias_restantes}: {agua_total_restante} litros\""
   ]
  },
  {
   "cell_type": "code",
   "execution_count": 8,
   "metadata": {},
   "outputs": [
    {
     "data": {
      "text/plain": [
       "'Agua restante despues de 2: -10 litros'"
      ]
     },
     "execution_count": 8,
     "metadata": {},
     "output_type": "execute_result"
    }
   ],
   "source": [
    "aguaRestante(5, 100, 2)"
   ]
  },
  {
   "cell_type": "code",
   "execution_count": 10,
   "metadata": {},
   "outputs": [
    {
     "ename": "RuntimeError",
     "evalue": "No hay agua suficiente para 5 astronautas, despues de 2 dias",
     "output_type": "error",
     "traceback": [
      "\u001b[1;31m---------------------------------------------------------------------------\u001b[0m",
      "\u001b[1;31mRuntimeError\u001b[0m                              Traceback (most recent call last)",
      "\u001b[1;32mc:\\Users\\vicuo\\Documents\\launchx\\kata10.ipynb Cell 7'\u001b[0m in \u001b[0;36m<module>\u001b[1;34m\u001b[0m\n\u001b[0;32m      <a href='vscode-notebook-cell:/c%3A/Users/vicuo/Documents/launchx/kata10.ipynb#ch0000011?line=5'>6</a>\u001b[0m         \u001b[39mraise\u001b[39;00m \u001b[39mRuntimeError\u001b[39;00m(\u001b[39mf\u001b[39m\u001b[39m\"\u001b[39m\u001b[39mNo hay agua suficiente para \u001b[39m\u001b[39m{\u001b[39;00mastronautas\u001b[39m}\u001b[39;00m\u001b[39m astronautas, despues de \u001b[39m\u001b[39m{\u001b[39;00mdias_restantes\u001b[39m}\u001b[39;00m\u001b[39m dias\u001b[39m\u001b[39m\"\u001b[39m)\n\u001b[0;32m      <a href='vscode-notebook-cell:/c%3A/Users/vicuo/Documents/launchx/kata10.ipynb#ch0000011?line=6'>7</a>\u001b[0m     \u001b[39mreturn\u001b[39;00m \u001b[39mf\u001b[39m\u001b[39m\"\u001b[39m\u001b[39mAgua restante despues de \u001b[39m\u001b[39m{\u001b[39;00mdias_restantes\u001b[39m}\u001b[39;00m\u001b[39m: \u001b[39m\u001b[39m{\u001b[39;00magua_total_restante\u001b[39m}\u001b[39;00m\u001b[39m litros\u001b[39m\u001b[39m\"\u001b[39m\n\u001b[1;32m----> <a href='vscode-notebook-cell:/c%3A/Users/vicuo/Documents/launchx/kata10.ipynb#ch0000011?line=8'>9</a>\u001b[0m aguaRestante(\u001b[39m5\u001b[39;49m, \u001b[39m100\u001b[39;49m, \u001b[39m2\u001b[39;49m)\n",
      "\u001b[1;32mc:\\Users\\vicuo\\Documents\\launchx\\kata10.ipynb Cell 7'\u001b[0m in \u001b[0;36maguaRestante\u001b[1;34m(astronautas, agua_restante, dias_restantes)\u001b[0m\n\u001b[0;32m      <a href='vscode-notebook-cell:/c%3A/Users/vicuo/Documents/launchx/kata10.ipynb#ch0000011?line=3'>4</a>\u001b[0m agua_total_restante \u001b[39m=\u001b[39m agua_restante \u001b[39m-\u001b[39m uso_total\n\u001b[0;32m      <a href='vscode-notebook-cell:/c%3A/Users/vicuo/Documents/launchx/kata10.ipynb#ch0000011?line=4'>5</a>\u001b[0m \u001b[39mif\u001b[39;00m agua_total_restante \u001b[39m<\u001b[39m \u001b[39m0\u001b[39m:\n\u001b[1;32m----> <a href='vscode-notebook-cell:/c%3A/Users/vicuo/Documents/launchx/kata10.ipynb#ch0000011?line=5'>6</a>\u001b[0m     \u001b[39mraise\u001b[39;00m \u001b[39mRuntimeError\u001b[39;00m(\u001b[39mf\u001b[39m\u001b[39m\"\u001b[39m\u001b[39mNo hay agua suficiente para \u001b[39m\u001b[39m{\u001b[39;00mastronautas\u001b[39m}\u001b[39;00m\u001b[39m astronautas, despues de \u001b[39m\u001b[39m{\u001b[39;00mdias_restantes\u001b[39m}\u001b[39;00m\u001b[39m dias\u001b[39m\u001b[39m\"\u001b[39m)\n\u001b[0;32m      <a href='vscode-notebook-cell:/c%3A/Users/vicuo/Documents/launchx/kata10.ipynb#ch0000011?line=6'>7</a>\u001b[0m \u001b[39mreturn\u001b[39;00m \u001b[39mf\u001b[39m\u001b[39m\"\u001b[39m\u001b[39mAgua restante despues de \u001b[39m\u001b[39m{\u001b[39;00mdias_restantes\u001b[39m}\u001b[39;00m\u001b[39m: \u001b[39m\u001b[39m{\u001b[39;00magua_total_restante\u001b[39m}\u001b[39;00m\u001b[39m litros\u001b[39m\u001b[39m\"\u001b[39m\n",
      "\u001b[1;31mRuntimeError\u001b[0m: No hay agua suficiente para 5 astronautas, despues de 2 dias"
     ]
    }
   ],
   "source": [
    "def aguaRestante(astronautas, agua_restante, dias_restantes):\n",
    "    uso_diario = astronautas  * 11\n",
    "    uso_total = uso_diario * dias_restantes\n",
    "    agua_total_restante = agua_restante - uso_total\n",
    "    if agua_total_restante < 0:\n",
    "        raise RuntimeError(f\"No hay agua suficiente para {astronautas} astronautas, despues de {dias_restantes} dias\")\n",
    "    return f\"Agua restante despues de {dias_restantes}: {agua_total_restante} litros\"\n",
    "\n",
    "aguaRestante(5, 100, 2)"
   ]
  },
  {
   "cell_type": "code",
   "execution_count": 12,
   "metadata": {},
   "outputs": [
    {
     "ename": "TypeError",
     "evalue": "El argumento hola es invalido, no es un número",
     "output_type": "error",
     "traceback": [
      "\u001b[1;31m---------------------------------------------------------------------------\u001b[0m",
      "\u001b[1;31mTypeError\u001b[0m                                 Traceback (most recent call last)",
      "\u001b[1;32mc:\\Users\\vicuo\\Documents\\launchx\\kata10.ipynb Cell 8'\u001b[0m in \u001b[0;36maguaRestante\u001b[1;34m(astronautas, agua_restante, dias_restantes)\u001b[0m\n\u001b[0;32m      <a href='vscode-notebook-cell:/c%3A/Users/vicuo/Documents/launchx/kata10.ipynb#ch0000012?line=3'>4</a>\u001b[0m \u001b[39mtry\u001b[39;00m:\n\u001b[1;32m----> <a href='vscode-notebook-cell:/c%3A/Users/vicuo/Documents/launchx/kata10.ipynb#ch0000012?line=4'>5</a>\u001b[0m     arg \u001b[39m+\u001b[39;49m \u001b[39m1\u001b[39;49m\n\u001b[0;32m      <a href='vscode-notebook-cell:/c%3A/Users/vicuo/Documents/launchx/kata10.ipynb#ch0000012?line=5'>6</a>\u001b[0m \u001b[39mexcept\u001b[39;00m:\n",
      "\u001b[1;31mTypeError\u001b[0m: can only concatenate str (not \"int\") to str",
      "\nDuring handling of the above exception, another exception occurred:\n",
      "\u001b[1;31mTypeError\u001b[0m                                 Traceback (most recent call last)",
      "\u001b[1;32mc:\\Users\\vicuo\\Documents\\launchx\\kata10.ipynb Cell 8'\u001b[0m in \u001b[0;36m<module>\u001b[1;34m\u001b[0m\n\u001b[0;32m     <a href='vscode-notebook-cell:/c%3A/Users/vicuo/Documents/launchx/kata10.ipynb#ch0000012?line=12'>13</a>\u001b[0m         \u001b[39mraise\u001b[39;00m \u001b[39mRuntimeError\u001b[39;00m(\u001b[39mf\u001b[39m\u001b[39m\"\u001b[39m\u001b[39mNo hay agua suficiente para \u001b[39m\u001b[39m{\u001b[39;00mastronautas\u001b[39m}\u001b[39;00m\u001b[39m astronautas, despues de \u001b[39m\u001b[39m{\u001b[39;00mdias_restantes\u001b[39m}\u001b[39;00m\u001b[39m dias\u001b[39m\u001b[39m\"\u001b[39m)\n\u001b[0;32m     <a href='vscode-notebook-cell:/c%3A/Users/vicuo/Documents/launchx/kata10.ipynb#ch0000012?line=13'>14</a>\u001b[0m     \u001b[39mreturn\u001b[39;00m \u001b[39mf\u001b[39m\u001b[39m\"\u001b[39m\u001b[39mAgua restante despues de \u001b[39m\u001b[39m{\u001b[39;00mdias_restantes\u001b[39m}\u001b[39;00m\u001b[39m: \u001b[39m\u001b[39m{\u001b[39;00magua_total_restante\u001b[39m}\u001b[39;00m\u001b[39m litros\u001b[39m\u001b[39m\"\u001b[39m\n\u001b[1;32m---> <a href='vscode-notebook-cell:/c%3A/Users/vicuo/Documents/launchx/kata10.ipynb#ch0000012?line=15'>16</a>\u001b[0m aguaRestante(\u001b[39m12\u001b[39;49m, \u001b[39m24\u001b[39;49m, \u001b[39m'\u001b[39;49m\u001b[39mhola\u001b[39;49m\u001b[39m'\u001b[39;49m)\n",
      "\u001b[1;32mc:\\Users\\vicuo\\Documents\\launchx\\kata10.ipynb Cell 8'\u001b[0m in \u001b[0;36maguaRestante\u001b[1;34m(astronautas, agua_restante, dias_restantes)\u001b[0m\n\u001b[0;32m      <a href='vscode-notebook-cell:/c%3A/Users/vicuo/Documents/launchx/kata10.ipynb#ch0000012?line=4'>5</a>\u001b[0m         arg \u001b[39m+\u001b[39m \u001b[39m1\u001b[39m\n\u001b[0;32m      <a href='vscode-notebook-cell:/c%3A/Users/vicuo/Documents/launchx/kata10.ipynb#ch0000012?line=5'>6</a>\u001b[0m     \u001b[39mexcept\u001b[39;00m:\n\u001b[1;32m----> <a href='vscode-notebook-cell:/c%3A/Users/vicuo/Documents/launchx/kata10.ipynb#ch0000012?line=6'>7</a>\u001b[0m         \u001b[39mraise\u001b[39;00m \u001b[39mTypeError\u001b[39;00m(\u001b[39mf\u001b[39m\u001b[39m\"\u001b[39m\u001b[39mEl argumento \u001b[39m\u001b[39m{\u001b[39;00marg\u001b[39m}\u001b[39;00m\u001b[39m es invalido, no es un número\u001b[39m\u001b[39m\"\u001b[39m)\n\u001b[0;32m      <a href='vscode-notebook-cell:/c%3A/Users/vicuo/Documents/launchx/kata10.ipynb#ch0000012?line=8'>9</a>\u001b[0m uso_diario \u001b[39m=\u001b[39m astronautas  \u001b[39m*\u001b[39m \u001b[39m11\u001b[39m\n\u001b[0;32m     <a href='vscode-notebook-cell:/c%3A/Users/vicuo/Documents/launchx/kata10.ipynb#ch0000012?line=9'>10</a>\u001b[0m uso_total \u001b[39m=\u001b[39m uso_diario \u001b[39m*\u001b[39m dias_restantes\n",
      "\u001b[1;31mTypeError\u001b[0m: El argumento hola es invalido, no es un número"
     ]
    }
   ],
   "source": [
    "def aguaRestante(astronautas, agua_restante, dias_restantes):\n",
    "\n",
    "    for arg in [astronautas, agua_restante, dias_restantes]:\n",
    "        try:\n",
    "            arg + 1\n",
    "        except:\n",
    "            raise TypeError(f\"El argumento {arg} es invalido, no es un número\")\n",
    "\n",
    "    uso_diario = astronautas  * 11\n",
    "    uso_total = uso_diario * dias_restantes\n",
    "    agua_total_restante = agua_restante - uso_total\n",
    "    if agua_total_restante < 0:\n",
    "        raise RuntimeError(f\"No hay agua suficiente para {astronautas} astronautas, despues de {dias_restantes} dias\")\n",
    "    return f\"Agua restante despues de {dias_restantes}: {agua_total_restante} litros\"\n",
    "\n",
    "aguaRestante(12, 24, 'hola')"
   ]
  },
  {
   "cell_type": "code",
   "execution_count": null,
   "metadata": {},
   "outputs": [],
   "source": []
  }
 ],
 "metadata": {
  "interpreter": {
   "hash": "af8229fd3905f9edea9531abf3254f45997e248affd4459c26d5e7d3d8b362e9"
  },
  "kernelspec": {
   "display_name": "Python 3.10.2 64-bit",
   "language": "python",
   "name": "python3"
  },
  "language_info": {
   "codemirror_mode": {
    "name": "ipython",
    "version": 3
   },
   "file_extension": ".py",
   "mimetype": "text/x-python",
   "name": "python",
   "nbconvert_exporter": "python",
   "pygments_lexer": "ipython3",
   "version": "3.10.2"
  },
  "orig_nbformat": 4
 },
 "nbformat": 4,
 "nbformat_minor": 2
}
